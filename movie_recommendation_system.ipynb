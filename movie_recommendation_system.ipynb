{
 "cells": [
  {
   "cell_type": "code",
   "execution_count": 1,
   "id": "6e5aae4e-15ca-4687-8814-65d8dfeffba8",
   "metadata": {},
   "outputs": [],
   "source": [
    "import pandas as pd \n",
    "import numpy as np \n",
    "from sklearn.model_selection import train_test_split \n",
    "from sklearn.feature_extraction.text import TfidfVectorizer\n",
    "from sklearn.feature_extraction.text import CountVectorizer\n",
    "from sklearn.metrics.pairwise import cosine_similarity\n",
    "from sklearn.metrics import pairwise_distances\n",
    "from surprise import Dataset, SVD"
   ]
  },
  {
   "cell_type": "code",
   "execution_count": 2,
   "id": "28ef52d5-51cb-4841-bf63-ac0c40df3497",
   "metadata": {},
   "outputs": [
    {
     "data": {
      "text/html": [
       "<div>\n",
       "<style scoped>\n",
       "    .dataframe tbody tr th:only-of-type {\n",
       "        vertical-align: middle;\n",
       "    }\n",
       "\n",
       "    .dataframe tbody tr th {\n",
       "        vertical-align: top;\n",
       "    }\n",
       "\n",
       "    .dataframe thead th {\n",
       "        text-align: right;\n",
       "    }\n",
       "</style>\n",
       "<table border=\"1\" class=\"dataframe\">\n",
       "  <thead>\n",
       "    <tr style=\"text-align: right;\">\n",
       "      <th></th>\n",
       "      <th>budget</th>\n",
       "      <th>genres</th>\n",
       "      <th>homepage</th>\n",
       "      <th>id</th>\n",
       "      <th>keywords</th>\n",
       "      <th>original_language</th>\n",
       "      <th>original_title</th>\n",
       "      <th>overview</th>\n",
       "      <th>popularity</th>\n",
       "      <th>production_companies</th>\n",
       "      <th>production_countries</th>\n",
       "      <th>release_date</th>\n",
       "      <th>revenue</th>\n",
       "      <th>runtime</th>\n",
       "      <th>spoken_languages</th>\n",
       "      <th>status</th>\n",
       "      <th>tagline</th>\n",
       "      <th>title</th>\n",
       "      <th>vote_average</th>\n",
       "      <th>vote_count</th>\n",
       "    </tr>\n",
       "  </thead>\n",
       "  <tbody>\n",
       "    <tr>\n",
       "      <th>2018</th>\n",
       "      <td>23000000</td>\n",
       "      <td>[{\"id\": 10749, \"name\": \"Romance\"}, {\"id\": 35, ...</td>\n",
       "      <td>http://www.aboutmary.com/</td>\n",
       "      <td>544</td>\n",
       "      <td>[{\"id\": 3262, \"name\": \"surgeon\"}, {\"id\": 6844,...</td>\n",
       "      <td>en</td>\n",
       "      <td>There's Something About Mary</td>\n",
       "      <td>Having never fully recovered from a prom date ...</td>\n",
       "      <td>57.110486</td>\n",
       "      <td>[{\"name\": \"Twentieth Century Fox Film Corporat...</td>\n",
       "      <td>[{\"iso_3166_1\": \"US\", \"name\": \"United States o...</td>\n",
       "      <td>1998-07-15</td>\n",
       "      <td>369884651</td>\n",
       "      <td>119.0</td>\n",
       "      <td>[{\"iso_639_1\": \"en\", \"name\": \"English\"}]</td>\n",
       "      <td>Released</td>\n",
       "      <td>Love Is In The Hair.</td>\n",
       "      <td>There's Something About Mary</td>\n",
       "      <td>6.5</td>\n",
       "      <td>1590</td>\n",
       "    </tr>\n",
       "    <tr>\n",
       "      <th>1313</th>\n",
       "      <td>38000000</td>\n",
       "      <td>[{\"id\": 27, \"name\": \"Horror\"}, {\"id\": 9648, \"n...</td>\n",
       "      <td>NaN</td>\n",
       "      <td>622</td>\n",
       "      <td>[{\"id\": 242, \"name\": \"new york\"}, {\"id\": 1523,...</td>\n",
       "      <td>en</td>\n",
       "      <td>The Ninth Gate</td>\n",
       "      <td>An all-expenses-paid international search for ...</td>\n",
       "      <td>30.359164</td>\n",
       "      <td>[{\"name\": \"Bac Films\", \"id\": 208}, {\"name\": \"K...</td>\n",
       "      <td>[{\"iso_3166_1\": \"FR\", \"name\": \"France\"}, {\"iso...</td>\n",
       "      <td>1999-08-24</td>\n",
       "      <td>58401898</td>\n",
       "      <td>133.0</td>\n",
       "      <td>[{\"iso_639_1\": \"en\", \"name\": \"English\"}, {\"iso...</td>\n",
       "      <td>Released</td>\n",
       "      <td>Every book has a life of its own.</td>\n",
       "      <td>The Ninth Gate</td>\n",
       "      <td>6.3</td>\n",
       "      <td>756</td>\n",
       "    </tr>\n",
       "    <tr>\n",
       "      <th>2328</th>\n",
       "      <td>18000000</td>\n",
       "      <td>[{\"id\": 18, \"name\": \"Drama\"}, {\"id\": 36, \"name...</td>\n",
       "      <td>NaN</td>\n",
       "      <td>279</td>\n",
       "      <td>[{\"id\": 131, \"name\": \"italy\"}, {\"id\": 1233, \"n...</td>\n",
       "      <td>en</td>\n",
       "      <td>Amadeus</td>\n",
       "      <td>The incredible story of genius musician Wolfga...</td>\n",
       "      <td>31.826750</td>\n",
       "      <td>[{\"name\": \"Warner Bros.\", \"id\": 6194}]</td>\n",
       "      <td>[{\"iso_3166_1\": \"US\", \"name\": \"United States o...</td>\n",
       "      <td>1984-10-26</td>\n",
       "      <td>51973029</td>\n",
       "      <td>160.0</td>\n",
       "      <td>[{\"iso_639_1\": \"en\", \"name\": \"English\"}, {\"iso...</td>\n",
       "      <td>Released</td>\n",
       "      <td>...Everything you've heard is true</td>\n",
       "      <td>Amadeus</td>\n",
       "      <td>7.8</td>\n",
       "      <td>1076</td>\n",
       "    </tr>\n",
       "    <tr>\n",
       "      <th>1321</th>\n",
       "      <td>0</td>\n",
       "      <td>[{\"id\": 28, \"name\": \"Action\"}, {\"id\": 37, \"nam...</td>\n",
       "      <td>NaN</td>\n",
       "      <td>13503</td>\n",
       "      <td>[{\"id\": 3508, \"name\": \"underwear\"}, {\"id\": 480...</td>\n",
       "      <td>en</td>\n",
       "      <td>Texas Rangers</td>\n",
       "      <td>Ten years after the Civil War has ended, the G...</td>\n",
       "      <td>5.641978</td>\n",
       "      <td>[{\"name\": \"Dimension Films\", \"id\": 7405}]</td>\n",
       "      <td>[{\"iso_3166_1\": \"US\", \"name\": \"United States o...</td>\n",
       "      <td>2001-11-30</td>\n",
       "      <td>0</td>\n",
       "      <td>110.0</td>\n",
       "      <td>[{\"iso_639_1\": \"en\", \"name\": \"English\"}]</td>\n",
       "      <td>Released</td>\n",
       "      <td>NaN</td>\n",
       "      <td>Texas Rangers</td>\n",
       "      <td>5.4</td>\n",
       "      <td>19</td>\n",
       "    </tr>\n",
       "    <tr>\n",
       "      <th>2933</th>\n",
       "      <td>11</td>\n",
       "      <td>[{\"id\": 18, \"name\": \"Drama\"}, {\"id\": 28, \"name...</td>\n",
       "      <td>NaN</td>\n",
       "      <td>28932</td>\n",
       "      <td>[]</td>\n",
       "      <td>en</td>\n",
       "      <td>F.I.S.T.</td>\n",
       "      <td>Johnny Kovak joins the Teamsters trade-union i...</td>\n",
       "      <td>3.375208</td>\n",
       "      <td>[{\"name\": \"United Artists\", \"id\": 60}, {\"name\"...</td>\n",
       "      <td>[{\"iso_3166_1\": \"US\", \"name\": \"United States o...</td>\n",
       "      <td>1978-04-26</td>\n",
       "      <td>11</td>\n",
       "      <td>145.0</td>\n",
       "      <td>[{\"iso_639_1\": \"en\", \"name\": \"English\"}]</td>\n",
       "      <td>Released</td>\n",
       "      <td>NaN</td>\n",
       "      <td>F.I.S.T.</td>\n",
       "      <td>6.4</td>\n",
       "      <td>29</td>\n",
       "    </tr>\n",
       "  </tbody>\n",
       "</table>\n",
       "</div>"
      ],
      "text/plain": [
       "        budget                                             genres  \\\n",
       "2018  23000000  [{\"id\": 10749, \"name\": \"Romance\"}, {\"id\": 35, ...   \n",
       "1313  38000000  [{\"id\": 27, \"name\": \"Horror\"}, {\"id\": 9648, \"n...   \n",
       "2328  18000000  [{\"id\": 18, \"name\": \"Drama\"}, {\"id\": 36, \"name...   \n",
       "1321         0  [{\"id\": 28, \"name\": \"Action\"}, {\"id\": 37, \"nam...   \n",
       "2933        11  [{\"id\": 18, \"name\": \"Drama\"}, {\"id\": 28, \"name...   \n",
       "\n",
       "                       homepage     id  \\\n",
       "2018  http://www.aboutmary.com/    544   \n",
       "1313                        NaN    622   \n",
       "2328                        NaN    279   \n",
       "1321                        NaN  13503   \n",
       "2933                        NaN  28932   \n",
       "\n",
       "                                               keywords original_language  \\\n",
       "2018  [{\"id\": 3262, \"name\": \"surgeon\"}, {\"id\": 6844,...                en   \n",
       "1313  [{\"id\": 242, \"name\": \"new york\"}, {\"id\": 1523,...                en   \n",
       "2328  [{\"id\": 131, \"name\": \"italy\"}, {\"id\": 1233, \"n...                en   \n",
       "1321  [{\"id\": 3508, \"name\": \"underwear\"}, {\"id\": 480...                en   \n",
       "2933                                                 []                en   \n",
       "\n",
       "                    original_title  \\\n",
       "2018  There's Something About Mary   \n",
       "1313                The Ninth Gate   \n",
       "2328                       Amadeus   \n",
       "1321                 Texas Rangers   \n",
       "2933                      F.I.S.T.   \n",
       "\n",
       "                                               overview  popularity  \\\n",
       "2018  Having never fully recovered from a prom date ...   57.110486   \n",
       "1313  An all-expenses-paid international search for ...   30.359164   \n",
       "2328  The incredible story of genius musician Wolfga...   31.826750   \n",
       "1321  Ten years after the Civil War has ended, the G...    5.641978   \n",
       "2933  Johnny Kovak joins the Teamsters trade-union i...    3.375208   \n",
       "\n",
       "                                   production_companies  \\\n",
       "2018  [{\"name\": \"Twentieth Century Fox Film Corporat...   \n",
       "1313  [{\"name\": \"Bac Films\", \"id\": 208}, {\"name\": \"K...   \n",
       "2328             [{\"name\": \"Warner Bros.\", \"id\": 6194}]   \n",
       "1321          [{\"name\": \"Dimension Films\", \"id\": 7405}]   \n",
       "2933  [{\"name\": \"United Artists\", \"id\": 60}, {\"name\"...   \n",
       "\n",
       "                                   production_countries release_date  \\\n",
       "2018  [{\"iso_3166_1\": \"US\", \"name\": \"United States o...   1998-07-15   \n",
       "1313  [{\"iso_3166_1\": \"FR\", \"name\": \"France\"}, {\"iso...   1999-08-24   \n",
       "2328  [{\"iso_3166_1\": \"US\", \"name\": \"United States o...   1984-10-26   \n",
       "1321  [{\"iso_3166_1\": \"US\", \"name\": \"United States o...   2001-11-30   \n",
       "2933  [{\"iso_3166_1\": \"US\", \"name\": \"United States o...   1978-04-26   \n",
       "\n",
       "        revenue  runtime                                   spoken_languages  \\\n",
       "2018  369884651    119.0           [{\"iso_639_1\": \"en\", \"name\": \"English\"}]   \n",
       "1313   58401898    133.0  [{\"iso_639_1\": \"en\", \"name\": \"English\"}, {\"iso...   \n",
       "2328   51973029    160.0  [{\"iso_639_1\": \"en\", \"name\": \"English\"}, {\"iso...   \n",
       "1321          0    110.0           [{\"iso_639_1\": \"en\", \"name\": \"English\"}]   \n",
       "2933         11    145.0           [{\"iso_639_1\": \"en\", \"name\": \"English\"}]   \n",
       "\n",
       "        status                             tagline  \\\n",
       "2018  Released                Love Is In The Hair.   \n",
       "1313  Released   Every book has a life of its own.   \n",
       "2328  Released  ...Everything you've heard is true   \n",
       "1321  Released                                 NaN   \n",
       "2933  Released                                 NaN   \n",
       "\n",
       "                             title  vote_average  vote_count  \n",
       "2018  There's Something About Mary           6.5        1590  \n",
       "1313                The Ninth Gate           6.3         756  \n",
       "2328                       Amadeus           7.8        1076  \n",
       "1321                 Texas Rangers           5.4          19  \n",
       "2933                      F.I.S.T.           6.4          29  "
      ]
     },
     "execution_count": 2,
     "metadata": {},
     "output_type": "execute_result"
    }
   ],
   "source": [
    "df = pd.read_csv('tmdb_5000_movies.csv')\n",
    "df.sample(5)"
   ]
  },
  {
   "cell_type": "code",
   "execution_count": 3,
   "id": "bfe9c85c-80b6-4c28-a2dc-ff40bb615720",
   "metadata": {},
   "outputs": [
    {
     "data": {
      "text/plain": [
       "(4803, 20)"
      ]
     },
     "execution_count": 3,
     "metadata": {},
     "output_type": "execute_result"
    }
   ],
   "source": [
    "df.shape"
   ]
  },
  {
   "cell_type": "code",
   "execution_count": 4,
   "id": "25ef26ef-8bda-4294-9d53-50d5cde826e5",
   "metadata": {
    "scrolled": true
   },
   "outputs": [
    {
     "data": {
      "text/plain": [
       "budget                     0\n",
       "genres                     0\n",
       "homepage                3091\n",
       "id                         0\n",
       "keywords                   0\n",
       "original_language          0\n",
       "original_title             0\n",
       "overview                   3\n",
       "popularity                 0\n",
       "production_companies       0\n",
       "production_countries       0\n",
       "release_date               1\n",
       "revenue                    0\n",
       "runtime                    2\n",
       "spoken_languages           0\n",
       "status                     0\n",
       "tagline                  844\n",
       "title                      0\n",
       "vote_average               0\n",
       "vote_count                 0\n",
       "dtype: int64"
      ]
     },
     "execution_count": 4,
     "metadata": {},
     "output_type": "execute_result"
    }
   ],
   "source": [
    "df.isnull().sum()"
   ]
  },
  {
   "cell_type": "code",
   "execution_count": 5,
   "id": "70ac2136-6fa6-4c54-9bd8-cdeaf6eddc9f",
   "metadata": {},
   "outputs": [],
   "source": [
    "df.dropna(inplace=True)"
   ]
  },
  {
   "cell_type": "code",
   "execution_count": 6,
   "id": "5119618e-ff58-423d-a643-00d0017b5024",
   "metadata": {},
   "outputs": [],
   "source": [
    "import ast"
   ]
  },
  {
   "cell_type": "code",
   "execution_count": 7,
   "id": "74404df5-6913-4c71-a94d-31823360c86f",
   "metadata": {},
   "outputs": [],
   "source": [
    "def convert(obj):\n",
    "    L = []\n",
    "    for i in ast.literal_eval(obj):\n",
    "        L.append(i['name'])\n",
    "    return L\n",
    "        "
   ]
  },
  {
   "cell_type": "code",
   "execution_count": 8,
   "id": "dc673f76-d765-43e5-b6f9-0fa2d1ab9e1b",
   "metadata": {},
   "outputs": [],
   "source": [
    "df['genres'] = df['genres'].apply(convert)\n",
    "df['keywords'] = df['keywords'].apply(convert)"
   ]
  },
  {
   "cell_type": "code",
   "execution_count": 9,
   "id": "4cdfe1a8-5dd8-4bee-b80c-5c45a490f199",
   "metadata": {},
   "outputs": [],
   "source": [
    "df['genres'] = df['genres'].apply(lambda x: \" \".join(x))\n",
    "df['keywords'] = df['keywords'].apply(lambda x: \" \".join(x))"
   ]
  },
  {
   "cell_type": "code",
   "execution_count": 10,
   "id": "83deae1c-0a43-4225-8fc5-a18c5e645fad",
   "metadata": {},
   "outputs": [],
   "source": [
    "df['overview'] = df['overview'].fillna('')\n",
    "df['title'] = df['title'].fillna('')\n",
    "\n",
    "# Now combine everything into 'tags'\n",
    "df['tags'] = df['title'] + \" \" + df['overview'] + \" \" + df['genres'] + \" \" + df['keywords']\n",
    "\n",
    "# Convert to lowercase\n",
    "df['tags'] = df['tags'].apply(lambda x: x.lower())"
   ]
  },
  {
   "cell_type": "code",
   "execution_count": 11,
   "id": "735b4ebe-ddae-4bca-8269-1f2c6a866c4e",
   "metadata": {},
   "outputs": [],
   "source": [
    "vectorizer = TfidfVectorizer(max_features=5000, stop_words='english')\n",
    "vectors = vectorizer.fit_transform(df['tags']).toarray()"
   ]
  },
  {
   "cell_type": "code",
   "execution_count": 12,
   "id": "468ee246-e528-4294-985d-d9919260b662",
   "metadata": {},
   "outputs": [],
   "source": [
    "similar = cosine_similarity(vectors)"
   ]
  },
  {
   "cell_type": "code",
   "execution_count": 20,
   "id": "7a121c73-6af7-4ce2-bfd8-1873e6eed526",
   "metadata": {},
   "outputs": [],
   "source": [
    "import pickle"
   ]
  },
  {
   "cell_type": "code",
   "execution_count": 24,
   "id": "5750730d-e3b4-4f45-bd85-283e22e8ea15",
   "metadata": {},
   "outputs": [],
   "source": [
    "pickle.dump(df, open('movies.pkl', 'wb'))\n",
    "pickle.dump(similar, open('similarity.pkl', 'wb'))\n"
   ]
  },
  {
   "cell_type": "code",
   "execution_count": 38,
   "id": "7f2cd4d8-844e-4d5f-ba8e-e65bd1bbeac2",
   "metadata": {},
   "outputs": [
    {
     "name": "stdout",
     "output_type": "stream",
     "text": [
      "\n",
      "🎥 Top 5 recommendations for: Avatar\n",
      "Alien\n",
      "Moonraker\n",
      "Spaceballs\n",
      "Lockout\n",
      "Space Chimps\n"
     ]
    }
   ],
   "source": [
    "def recommend(movie):\n",
    "    movie = movie.lower()\n",
    "    if movie not in df['title'].str.lower().values:\n",
    "        print(\"❌ Movie not found in dataset.\")\n",
    "        return\n",
    "    index = df[df['title'].str.lower() == movie].index[0]\n",
    "    distances = similar[index]\n",
    "    movie_list = sorted(list(enumerate(distances)), reverse=True, key=lambda x: x[1])[1:6]\n",
    "    print(f\"\\n🎥 Top 5 recommendations for: {df.iloc[index].title}\")\n",
    "    for i in movie_list:\n",
    "        print(df.iloc[i[0]].title)\n",
    "\n",
    "# Example use\n",
    "recommend(\"Avatar\")\n"
   ]
  },
  {
   "cell_type": "code",
   "execution_count": null,
   "id": "a2ee9392-0d4f-4d28-af8f-4437090bae7d",
   "metadata": {},
   "outputs": [],
   "source": []
  }
 ],
 "metadata": {
  "kernelspec": {
   "display_name": "Python [conda env:base] *",
   "language": "python",
   "name": "conda-base-py"
  },
  "language_info": {
   "codemirror_mode": {
    "name": "ipython",
    "version": 3
   },
   "file_extension": ".py",
   "mimetype": "text/x-python",
   "name": "python",
   "nbconvert_exporter": "python",
   "pygments_lexer": "ipython3",
   "version": "3.12.3"
  }
 },
 "nbformat": 4,
 "nbformat_minor": 5
}
